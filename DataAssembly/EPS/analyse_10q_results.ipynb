{
 "cells": [
  {
   "cell_type": "markdown",
   "metadata": {},
   "source": [
    "## This will be to analyse the EPS data scraped by DataAssembly/EPS/parse_10q_filings.py\n",
    "### first analysis is to see how many blanks we have (can I do the rest by hand or not)\n",
    "### second will be to look for outliers - these will be to look for instances where the LLM screwed up. \n"
   ]
  },
  {
   "cell_type": "code",
   "execution_count": 24,
   "metadata": {},
   "outputs": [],
   "source": [
    "# Analysis for news.db (e.g how many articles are there for each ticker)\n",
    "import sys, os\n",
    "notebook_dir = os.getcwd()\n",
    "sys.path.append(os.path.abspath(os.path.join(notebook_dir, \"../..\")))\n",
    "import config\n",
    "import pandas as pd\n",
    "import matplotlib.pyplot as plt"
   ]
  },
  {
   "cell_type": "code",
   "execution_count": 25,
   "metadata": {},
   "outputs": [
    {
     "data": {
      "text/plain": [
       "pandas.core.frame.DataFrame"
      ]
     },
     "execution_count": 25,
     "metadata": {},
     "output_type": "execute_result"
    }
   ],
   "source": [
    "df = pd.read_csv(\"../../\"+config.EPS_DATA_CSV)\n",
    "type(df)"
   ]
  },
  {
   "cell_type": "code",
   "execution_count": 26,
   "metadata": {},
   "outputs": [],
   "source": [
    "def find_null_eps_10q_rows(df: pd.DataFrame) -> pd.DataFrame:\n",
    "    \"\"\"\n",
    "    Find rows where all EPS columns are null and the form type is '10-Q'.\n",
    "    Returns a DataFrame with index, Ticker, and AccessionNumber.\n",
    "    \"\"\"\n",
    "    initial_count = (df['Form Type'] == '10-Q (Quarterly report)').sum()\n",
    "\n",
    "\n",
    "    mask = (\n",
    "        (df['Form Type'] == '10-Q (Quarterly report)') &\n",
    "        (df['quarterly_raw_eps'].isnull()) &\n",
    "        (df['quarterly_diluted_eps'].isnull()) &\n",
    "        (df['annual_raw_eps'].isnull()) &\n",
    "        (df['annual_diluted_eps'].isnull())\n",
    "    )\n",
    "\n",
    "    result_df = df.loc[mask, ['Ticker', 'Accession Number']].copy()\n",
    "    print(f\"Total of {initial_count} rows.\")\n",
    "    print(f\"[INFO] Found {len(result_df)} rows with all EPS values missing for 10-Q filings. ({len(result_df)*100/initial_count}%)\")\n",
    "    return result_df\n"
   ]
  },
  {
   "cell_type": "code",
   "execution_count": 27,
   "metadata": {},
   "outputs": [
    {
     "name": "stdout",
     "output_type": "stream",
     "text": [
      "Total of 6163 rows.\n",
      "[INFO] Found 140 rows with all EPS values missing for 10-Q filings. (2.271620963816323%)\n"
     ]
    },
    {
     "data": {
      "text/html": [
       "<div>\n",
       "<style scoped>\n",
       "    .dataframe tbody tr th:only-of-type {\n",
       "        vertical-align: middle;\n",
       "    }\n",
       "\n",
       "    .dataframe tbody tr th {\n",
       "        vertical-align: top;\n",
       "    }\n",
       "\n",
       "    .dataframe thead th {\n",
       "        text-align: right;\n",
       "    }\n",
       "</style>\n",
       "<table border=\"1\" class=\"dataframe\">\n",
       "  <thead>\n",
       "    <tr style=\"text-align: right;\">\n",
       "      <th></th>\n",
       "      <th>Ticker</th>\n",
       "      <th>Accession Number</th>\n",
       "    </tr>\n",
       "  </thead>\n",
       "  <tbody>\n",
       "    <tr>\n",
       "      <th>178</th>\n",
       "      <td>TER</td>\n",
       "      <td>0001193125-17-255654</td>\n",
       "    </tr>\n",
       "    <tr>\n",
       "      <th>260</th>\n",
       "      <td>WDC</td>\n",
       "      <td>0000106040-24-000040</td>\n",
       "    </tr>\n",
       "    <tr>\n",
       "      <th>261</th>\n",
       "      <td>WDC</td>\n",
       "      <td>0000106040-24-000022</td>\n",
       "    </tr>\n",
       "    <tr>\n",
       "      <th>262</th>\n",
       "      <td>WDC</td>\n",
       "      <td>0000106040-24-000014</td>\n",
       "    </tr>\n",
       "    <tr>\n",
       "      <th>263</th>\n",
       "      <td>WDC</td>\n",
       "      <td>0000106040-23-000034</td>\n",
       "    </tr>\n",
       "    <tr>\n",
       "      <th>264</th>\n",
       "      <td>WDC</td>\n",
       "      <td>0000106040-23-000017</td>\n",
       "    </tr>\n",
       "    <tr>\n",
       "      <th>265</th>\n",
       "      <td>WDC</td>\n",
       "      <td>0000106040-23-000010</td>\n",
       "    </tr>\n",
       "    <tr>\n",
       "      <th>269</th>\n",
       "      <td>WDC</td>\n",
       "      <td>0000106040-21-000053</td>\n",
       "    </tr>\n",
       "    <tr>\n",
       "      <th>506</th>\n",
       "      <td>ROST</td>\n",
       "      <td>0001206774-12-002608</td>\n",
       "    </tr>\n",
       "    <tr>\n",
       "      <th>799</th>\n",
       "      <td>TSLA</td>\n",
       "      <td>0001564590-18-019254</td>\n",
       "    </tr>\n",
       "  </tbody>\n",
       "</table>\n",
       "</div>"
      ],
      "text/plain": [
       "    Ticker      Accession Number\n",
       "178    TER  0001193125-17-255654\n",
       "260    WDC  0000106040-24-000040\n",
       "261    WDC  0000106040-24-000022\n",
       "262    WDC  0000106040-24-000014\n",
       "263    WDC  0000106040-23-000034\n",
       "264    WDC  0000106040-23-000017\n",
       "265    WDC  0000106040-23-000010\n",
       "269    WDC  0000106040-21-000053\n",
       "506   ROST  0001206774-12-002608\n",
       "799   TSLA  0001564590-18-019254"
      ]
     },
     "execution_count": 27,
     "metadata": {},
     "output_type": "execute_result"
    }
   ],
   "source": [
    "missing_df = find_null_eps_10q_rows(df=df)\n",
    "missing_df.head(10)"
   ]
  },
  {
   "cell_type": "code",
   "execution_count": 28,
   "metadata": {},
   "outputs": [
    {
     "name": "stdout",
     "output_type": "stream",
     "text": [
      "19\n",
      "   Ticker  MissingCount\n",
      "0      BX            23\n",
      "1     TEL            22\n",
      "2     KKR            20\n",
      "3    TSLA            16\n",
      "4      MS            11\n",
      "5     WDC             7\n",
      "6    MCHP             7\n",
      "7     BAC             7\n",
      "8     HAS             6\n",
      "9    ULTA             4\n",
      "10    AMD             4\n",
      "11     EG             3\n",
      "12    PGR             2\n",
      "13   BKNG             2\n",
      "14    AJG             2\n",
      "15   ERIE             1\n",
      "16   ROST             1\n",
      "17    PTC             1\n",
      "18    TER             1\n"
     ]
    }
   ],
   "source": [
    "ticker_missing_counts_df = missing_df['Ticker'].value_counts().reset_index()\n",
    "ticker_missing_counts_df.columns = ['Ticker', 'MissingCount']\n",
    "print(len(ticker_missing_counts_df))\n",
    "print(ticker_missing_counts_df)"
   ]
  }
 ],
 "metadata": {
  "kernelspec": {
   "display_name": "apollo",
   "language": "python",
   "name": "python3"
  },
  "language_info": {
   "codemirror_mode": {
    "name": "ipython",
    "version": 3
   },
   "file_extension": ".py",
   "mimetype": "text/x-python",
   "name": "python",
   "nbconvert_exporter": "python",
   "pygments_lexer": "ipython3",
   "version": "3.10.16"
  }
 },
 "nbformat": 4,
 "nbformat_minor": 2
}
