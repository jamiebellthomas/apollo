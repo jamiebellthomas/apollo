{
 "cells": [
  {
   "cell_type": "markdown",
   "metadata": {},
   "source": [
    "## This will be to analyse the EPS data scraped by DataAssembly/EPS/parse_10q_filings.py\n",
    "### first analysis is to see how many blanks we have (can I do the rest by hand or not)\n",
    "### second will be to look for outliers - these will be to look for instances where the LLM screwed up. \n"
   ]
  },
  {
   "cell_type": "code",
   "execution_count": 74,
   "metadata": {},
   "outputs": [],
   "source": [
    "# Analysis for news.db (e.g how many articles are there for each ticker)\n",
    "import sys, os\n",
    "notebook_dir = os.getcwd()\n",
    "sys.path.append(os.path.abspath(os.path.join(notebook_dir, \"../..\")))\n",
    "import config\n",
    "import pandas as pd\n",
    "import matplotlib.pyplot as plt"
   ]
  },
  {
   "cell_type": "code",
   "execution_count": 75,
   "metadata": {},
   "outputs": [],
   "source": [
    "df = pd.read_csv(\"../../\"+config.EPS_DATA_CSV)\n",
    "type(df)\n",
    "df_quarterly = df[df['Form Type'] == '10-Q (Quarterly report)'].copy()\n"
   ]
  },
  {
   "cell_type": "code",
   "execution_count": 76,
   "metadata": {},
   "outputs": [],
   "source": [
    "def find_null_eps_10q_rows(df: pd.DataFrame) -> pd.DataFrame:\n",
    "    \"\"\"\n",
    "    Find rows where all EPS columns are null and the form type is '10-Q'.\n",
    "    Returns a DataFrame with index, Ticker, and AccessionNumber.\n",
    "    \"\"\"\n",
    "    initial_count = len(df)\n",
    "\n",
    "\n",
    "    mask = (\n",
    "        (df['quarterly_raw_eps'].isnull()) &\n",
    "        (df['quarterly_diluted_eps'].isnull()) &\n",
    "        (df['annual_raw_eps'].isnull()) &\n",
    "        (df['annual_diluted_eps'].isnull())\n",
    "    )\n",
    "\n",
    "    result_df = df.loc[mask, ['Ticker', 'Accession Number']].copy()\n",
    "    print(f\"Total of {initial_count} rows.\")\n",
    "    print(f\"[INFO] Found {len(result_df)} rows with all EPS values missing for 10-Q filings. ({len(result_df)*100/initial_count}%)\")\n",
    "    return result_df\n"
   ]
  },
  {
   "cell_type": "code",
   "execution_count": 77,
   "metadata": {},
   "outputs": [
    {
     "name": "stdout",
     "output_type": "stream",
     "text": [
      "Total of 6163 rows.\n",
      "[INFO] Found 140 rows with all EPS values missing for 10-Q filings. (2.271620963816323%)\n"
     ]
    },
    {
     "data": {
      "text/html": [
       "<div>\n",
       "<style scoped>\n",
       "    .dataframe tbody tr th:only-of-type {\n",
       "        vertical-align: middle;\n",
       "    }\n",
       "\n",
       "    .dataframe tbody tr th {\n",
       "        vertical-align: top;\n",
       "    }\n",
       "\n",
       "    .dataframe thead th {\n",
       "        text-align: right;\n",
       "    }\n",
       "</style>\n",
       "<table border=\"1\" class=\"dataframe\">\n",
       "  <thead>\n",
       "    <tr style=\"text-align: right;\">\n",
       "      <th></th>\n",
       "      <th>Ticker</th>\n",
       "      <th>Accession Number</th>\n",
       "    </tr>\n",
       "  </thead>\n",
       "  <tbody>\n",
       "    <tr>\n",
       "      <th>178</th>\n",
       "      <td>TER</td>\n",
       "      <td>0001193125-17-255654</td>\n",
       "    </tr>\n",
       "    <tr>\n",
       "      <th>260</th>\n",
       "      <td>WDC</td>\n",
       "      <td>0000106040-24-000040</td>\n",
       "    </tr>\n",
       "    <tr>\n",
       "      <th>261</th>\n",
       "      <td>WDC</td>\n",
       "      <td>0000106040-24-000022</td>\n",
       "    </tr>\n",
       "    <tr>\n",
       "      <th>262</th>\n",
       "      <td>WDC</td>\n",
       "      <td>0000106040-24-000014</td>\n",
       "    </tr>\n",
       "    <tr>\n",
       "      <th>263</th>\n",
       "      <td>WDC</td>\n",
       "      <td>0000106040-23-000034</td>\n",
       "    </tr>\n",
       "    <tr>\n",
       "      <th>264</th>\n",
       "      <td>WDC</td>\n",
       "      <td>0000106040-23-000017</td>\n",
       "    </tr>\n",
       "    <tr>\n",
       "      <th>265</th>\n",
       "      <td>WDC</td>\n",
       "      <td>0000106040-23-000010</td>\n",
       "    </tr>\n",
       "    <tr>\n",
       "      <th>269</th>\n",
       "      <td>WDC</td>\n",
       "      <td>0000106040-21-000053</td>\n",
       "    </tr>\n",
       "    <tr>\n",
       "      <th>506</th>\n",
       "      <td>ROST</td>\n",
       "      <td>0001206774-12-002608</td>\n",
       "    </tr>\n",
       "    <tr>\n",
       "      <th>799</th>\n",
       "      <td>TSLA</td>\n",
       "      <td>0001564590-18-019254</td>\n",
       "    </tr>\n",
       "  </tbody>\n",
       "</table>\n",
       "</div>"
      ],
      "text/plain": [
       "    Ticker      Accession Number\n",
       "178    TER  0001193125-17-255654\n",
       "260    WDC  0000106040-24-000040\n",
       "261    WDC  0000106040-24-000022\n",
       "262    WDC  0000106040-24-000014\n",
       "263    WDC  0000106040-23-000034\n",
       "264    WDC  0000106040-23-000017\n",
       "265    WDC  0000106040-23-000010\n",
       "269    WDC  0000106040-21-000053\n",
       "506   ROST  0001206774-12-002608\n",
       "799   TSLA  0001564590-18-019254"
      ]
     },
     "execution_count": 77,
     "metadata": {},
     "output_type": "execute_result"
    }
   ],
   "source": [
    "missing_df = find_null_eps_10q_rows(df=df_quarterly)\n",
    "missing_df.head(10)"
   ]
  },
  {
   "cell_type": "code",
   "execution_count": 78,
   "metadata": {},
   "outputs": [
    {
     "name": "stdout",
     "output_type": "stream",
     "text": [
      "19\n",
      "   Ticker  MissingCount\n",
      "0      BX            23\n",
      "1     TEL            22\n",
      "2     KKR            20\n",
      "3    TSLA            16\n",
      "4      MS            11\n",
      "5     WDC             7\n",
      "6    MCHP             7\n",
      "7     BAC             7\n",
      "8     HAS             6\n",
      "9    ULTA             4\n",
      "10    AMD             4\n",
      "11     EG             3\n",
      "12    PGR             2\n",
      "13   BKNG             2\n",
      "14    AJG             2\n",
      "15   ERIE             1\n",
      "16   ROST             1\n",
      "17    PTC             1\n",
      "18    TER             1\n"
     ]
    }
   ],
   "source": [
    "ticker_missing_counts_df = missing_df['Ticker'].value_counts().reset_index()\n",
    "ticker_missing_counts_df.columns = ['Ticker', 'MissingCount']\n",
    "print(len(ticker_missing_counts_df))\n",
    "print(ticker_missing_counts_df)\n",
    "# Tickers with no articles:\n",
    "# [TEL,MCHP,BAC,EG,AJG(7),PTC]\n",
    "# 22 + 7 + 7 + 3 + 2 + 1 = 42\n",
    "# 140 - 42 = 98\n",
    "# I can do this by hand"
   ]
  },
  {
   "cell_type": "code",
   "execution_count": 85,
   "metadata": {},
   "outputs": [],
   "source": [
    "def flag_eps_anomalies(df: pd.DataFrame, threshold_pct: float = 5.0) -> pd.DataFrame:\n",
    "    \"\"\"\n",
    "    Flags EPS rows where:\n",
    "    - Raw and diluted EPS have opposite signs\n",
    "    - Absolute percentage difference exceeds threshold AND absolute difference > 0.05\n",
    "    - Absolute raw EPS < absolute diluted EPS\n",
    "    \"\"\"\n",
    "\n",
    "    # Filter for rows with both EPS values present\n",
    "    mask = df['quarterly_raw_eps'].notnull() & df['quarterly_diluted_eps'].notnull()\n",
    "    eps_df = df.loc[mask].copy()\n",
    "\n",
    "    raw_eps = eps_df['quarterly_raw_eps']\n",
    "    diluted_eps = eps_df['quarterly_diluted_eps']\n",
    "\n",
    "    abs_raw = raw_eps.abs()\n",
    "    abs_diluted = diluted_eps.abs()\n",
    "\n",
    "    # Absolute difference\n",
    "    abs_diff = (raw_eps - diluted_eps).abs()\n",
    "\n",
    "    # Percentage difference\n",
    "    eps_df['percentage_difference'] = ((abs_raw - abs_diluted) / abs_raw.replace(0, float('nan'))) * 100\n",
    "\n",
    "    # Conditions\n",
    "    sign_mismatch = (raw_eps * diluted_eps) < 0\n",
    "    pct_difference = (eps_df['percentage_difference'].abs() > threshold_pct) & (abs_diff > 0.02)\n",
    "    raw_smaller = abs_raw < abs_diluted\n",
    "\n",
    "    # Combined condition\n",
    "    anomaly_mask = sign_mismatch | pct_difference | raw_smaller\n",
    "\n",
    "    return eps_df.loc[anomaly_mask, [\n",
    "        'Ticker', 'Query', 'quarterly_raw_eps', 'quarterly_diluted_eps', 'percentage_difference'\n",
    "    ]]\n"
   ]
  },
  {
   "cell_type": "code",
   "execution_count": 86,
   "metadata": {},
   "outputs": [
    {
     "name": "stdout",
     "output_type": "stream",
     "text": [
      "     Ticker                      Query  quarterly_raw_eps  \\\n",
      "815    TSLA  TSLA/0001193125-13-212354               0.10   \n",
      "889    WYNN  WYNN/0001174922-23-000105               0.11   \n",
      "938    FTNT  FTNT/0001262039-24-000020               0.39   \n",
      "1021    CRM   CRM/0001193125-13-453124               0.21   \n",
      "1023    CRM   CRM/0001193125-13-235664              -0.12   \n",
      "1736   VRSN  VRSN/0001014473-18-000028               1.38   \n",
      "1831    AON   AON/0001628280-21-008451               3.94   \n",
      "1872    IBM   IBM/0000051143-24-000049              -0.34   \n",
      "2031   SCHW  SCHW/0000316709-23-000062               2.04   \n",
      "2526    BAC   BAC/0000070858-14-000139               0.20   \n",
      "4533    WTW   WTW/0001564590-21-052630               7.01   \n",
      "5535      V     V/0001403161-17-000011               0.80   \n",
      "5856     GM    GM/0001467858-14-000125               0.08   \n",
      "6431    PFG   PFG/0001104659-13-035720               0.61   \n",
      "6903    LOW   LOW/0000060667-12-000149               0.43   \n",
      "7491   AMZN  AMZN/0001018724-24-000083               0.31   \n",
      "7647      L     L/0000060086-24-000086               2.05   \n",
      "7662      L     L/0001193125-19-124431               1.27   \n",
      "7669      L     L/0001193125-16-753167               0.97   \n",
      "8129    LKQ   LKQ/0001065696-19-000047               0.48   \n",
      "\n",
      "      quarterly_diluted_eps  percentage_difference  \n",
      "815                    0.00             100.000000  \n",
      "889                   -0.02              81.818182  \n",
      "938                    0.31              20.512821  \n",
      "1021                   0.09              57.142857  \n",
      "1023                   0.10              16.666667  \n",
      "1736                   1.09              21.014493  \n",
      "1831                   4.00              -1.522843  \n",
      "1872                  -0.36              -5.882353  \n",
      "2031                   0.56              72.549020  \n",
      "2526                   0.04              80.000000  \n",
      "4533                   7.08              -0.998573  \n",
      "5535                   0.86              -7.500000  \n",
      "5856                   0.06              25.000000  \n",
      "6431                   0.68             -11.475410  \n",
      "6903                   0.34              20.930233  \n",
      "7491                   0.98            -216.129032  \n",
      "7647                   1.61              21.463415  \n",
      "7662                   0.89              29.921260  \n",
      "7669                   0.50              48.453608  \n",
      "8129                   0.49              -2.083333  \n",
      "Total anomalies found: 20\n"
     ]
    }
   ],
   "source": [
    "anomalies = flag_eps_anomalies(df_quarterly, threshold_pct=20)\n",
    "print(anomalies.head(50))\n",
    "print(f\"Total anomalies found: {len(anomalies)}\")"
   ]
  }
 ],
 "metadata": {
  "kernelspec": {
   "display_name": "apollo",
   "language": "python",
   "name": "python3"
  },
  "language_info": {
   "codemirror_mode": {
    "name": "ipython",
    "version": 3
   },
   "file_extension": ".py",
   "mimetype": "text/x-python",
   "name": "python",
   "nbconvert_exporter": "python",
   "pygments_lexer": "ipython3",
   "version": "3.10.16"
  }
 },
 "nbformat": 4,
 "nbformat_minor": 2
}
